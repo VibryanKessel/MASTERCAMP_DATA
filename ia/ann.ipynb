{
 "cells": [
  {
   "cell_type": "code",
   "execution_count": 1,
   "metadata": {},
   "outputs": [],
   "source": [
    "import numpy as np\n",
    "import matplotlib.pyplot as plt\n",
    "from sklearn.datasets import make_blobs, make_circles\n",
    "from sklearn.metrics import accuracy_score, log_loss\n",
    "from tqdm import tqdm\n",
    "import csv"
   ]
  },
  {
   "cell_type": "markdown",
   "metadata": {},
   "source": [
    "# Fonctions"
   ]
  },
  {
   "cell_type": "code",
   "execution_count": 2,
   "metadata": {},
   "outputs": [],
   "source": [
    "def initialisation(dimensions):\n",
    "    \n",
    "    parametres = {}\n",
    "    C = len(dimensions)\n",
    "\n",
    "    np.random.seed(1)\n",
    "\n",
    "    for c in range(1, C):\n",
    "        parametres['W' + str(c)] = np.random.randn(dimensions[c], dimensions[c - 1])\n",
    "        parametres['b' + str(c)] = np.random.randn(dimensions[c], 1)\n",
    "\n",
    "\n",
    "    return parametres"
   ]
  },
  {
   "cell_type": "code",
   "execution_count": 3,
   "metadata": {},
   "outputs": [],
   "source": [
    "def forward_propagation(X, parametres):\n",
    "  \n",
    "  activations = {'A0': X}\n",
    "  \n",
    "  C = len(parametres) // 2\n",
    "\n",
    "  for c in range(1, C + 1):\n",
    "\n",
    "    Z = parametres['W' + str(c)].dot(activations['A' + str(c - 1)]) + parametres['b' + str(c)]\n",
    "    activations['A' + str(c)] = 1 / (1 + np.exp(-Z))\n",
    "\n",
    "  return activations"
   ]
  },
  {
   "cell_type": "code",
   "execution_count": 4,
   "metadata": {},
   "outputs": [],
   "source": [
    "def back_propagation(y, parametres, activations):\n",
    "\n",
    "  m = y.shape[1]\n",
    "  C = len(parametres) // 2\n",
    "\n",
    "  dZ = activations['A' + str(C)] - y\n",
    "  gradients = {}\n",
    "\n",
    "  for c in reversed(range(1, C + 1)):\n",
    "    gradients['dW' + str(c)] = 1/m * np.dot(dZ, activations['A' + str(c - 1)].T)\n",
    "    gradients['db' + str(c)] = 1/m * np.sum(dZ, axis=1, keepdims=True)\n",
    "    if c > 1:\n",
    "      dZ = np.dot(parametres['W' + str(c)].T, dZ) * activations['A' + str(c - 1)] * (1 - activations['A' + str(c - 1)])\n",
    "\n",
    "  return gradients"
   ]
  },
  {
   "cell_type": "code",
   "execution_count": 5,
   "metadata": {},
   "outputs": [],
   "source": [
    "def update(gradients, parametres, learning_rate):\n",
    "\n",
    "    C = len(parametres) // 2\n",
    "\n",
    "    for c in range(1, C + 1):\n",
    "        parametres['W' + str(c)] = parametres['W' + str(c)] - learning_rate * gradients['dW' + str(c)]\n",
    "        parametres['b' + str(c)] = parametres['b' + str(c)] - learning_rate * gradients['db' + str(c)]\n",
    "\n",
    "    return parametres"
   ]
  },
  {
   "cell_type": "code",
   "execution_count": 6,
   "metadata": {},
   "outputs": [],
   "source": [
    "def predict(X, parametres):\n",
    "  activations = forward_propagation(X, parametres)\n",
    "  C = len(parametres) // 2\n",
    "  Af = activations['A' + str(C)]\n",
    "  #>= 0.5\n",
    "  return Af "
   ]
  },
  {
   "cell_type": "code",
   "execution_count": 7,
   "metadata": {},
   "outputs": [],
   "source": [
    "def deep_neural_network(X, y,  n_iter, hidden_layers , learning_rate = 0.001):\n",
    "\n",
    "    # initialisation parametres\n",
    "    dimensions = list(hidden_layers)\n",
    "    dimensions.insert(0, X.shape[0])\n",
    "    dimensions.append(y.shape[0])\n",
    "    np.random.seed(1)\n",
    "    parametres = initialisation(dimensions)\n",
    "\n",
    "    print(len(parametres))\n",
    "    \n",
    "    # tableau numpy contenant les futures accuracy et log_loss\n",
    "    training_history = np.zeros((int(n_iter), 2))\n",
    "\n",
    "    C = len(parametres) // 2\n",
    "\n",
    "    # gradient descent\n",
    "    for i in tqdm(range(n_iter)):\n",
    "\n",
    "        activations = forward_propagation(X, parametres)\n",
    "        gradients = back_propagation(y, parametres, activations)\n",
    "        parametres = update(gradients, parametres, learning_rate)\n",
    "        Af = activations['A' + str(C)]\n",
    "\n",
    "\n",
    "\n",
    "        \"\"\" # calcul du log_loss et de l'accuracy\n",
    "        training_history[i, 0] = (log_loss(y.flatten(), Af.flatten()))\n",
    "        y_pred = predict(X, parametres)\n",
    "        training_history[i, 1] = (accuracy_score(y.flatten(), y_pred.flatten()))\n",
    "\n",
    "    # Plot courbe d'apprentissage\n",
    "    plt.figure(figsize=(12, 4))\n",
    "    plt.subplot(1, 2, 1)\n",
    "    plt.plot(training_history[:, 0], label='train loss')\n",
    "    plt.legend()\n",
    "    plt.subplot(1, 2, 2)\n",
    "    plt.plot(training_history[:, 1], label='train acc')\n",
    "    plt.legend()\n",
    "    plt.show() \"\"\"\n",
    "\n",
    "    print(parametres)\n",
    "    return training_history"
   ]
  },
  {
   "cell_type": "markdown",
   "metadata": {},
   "source": [
    "# Dataset"
   ]
  },
  {
   "cell_type": "code",
   "execution_count": 8,
   "metadata": {},
   "outputs": [
    {
     "name": "stdout",
     "output_type": "stream",
     "text": [
      "['age', 'poids', 'taille', 'sexe', 'type_regime', 'kcal_cible', 'nb_repas_cible']\n",
      "dimensions de X: (6, 1000)\n",
      "dimensions de y: (1, 1000)\n"
     ]
    }
   ],
   "source": [
    "\n",
    "\n",
    "with open('./master_camp_db_femmes/nombre_de_repas/perte.csv','r') as f:\n",
    "\n",
    "    data = list(csv.reader(f))\n",
    "    print(data[0])\n",
    "    \n",
    "    data = data[1:]\n",
    "    for el in data:\n",
    "        \"\"\" a = int(int(el[-2])/int(el[-1]))\n",
    "        b = int((int(el[-2])+150)/int(el[-1]))\n",
    "        c = [a,b]\n",
    "         \"\"\"\n",
    "        el = list(map(int,el))\n",
    "        \n",
    "\n",
    "data = np.array(data,dtype=float)\n",
    "\n",
    "t = len(data[0])-1\n",
    "\n",
    "X = data[:,:t]\n",
    "y = data[:,-1]\n",
    "\n",
    "X = X.T\n",
    "y = y.reshape((1, y.shape[0]))\n",
    "\n",
    "print('dimensions de X:', X.shape)\n",
    "print('dimensions de y:', y.shape)\n",
    "\n",
    "\n",
    "\n",
    "#plt.scatter(X[:,0],X[:,1] ,c=y, cmap='summer')\n",
    "#\n",
    "# \n",
    "# plt.show()"
   ]
  },
  {
   "cell_type": "code",
   "execution_count": 9,
   "metadata": {},
   "outputs": [
    {
     "name": "stdout",
     "output_type": "stream",
     "text": [
      "8\n"
     ]
    },
    {
     "name": "stderr",
     "output_type": "stream",
     "text": [
      "  0%|          | 0/1000 [00:00<?, ?it/s]/tmp/ipykernel_80963/1270483671.py:10: RuntimeWarning: overflow encountered in exp\n",
      "  activations['A' + str(c)] = 1 / (1 + np.exp(-Z))\n",
      "100%|██████████| 1000/1000 [00:00<00:00, 3109.53it/s]"
     ]
    },
    {
     "name": "stdout",
     "output_type": "stream",
     "text": [
      "{'W1': array([[ 1.62434536, -0.61175641, -0.52817175, -1.07296862,  0.86540763,\n",
      "        -2.3015387 ],\n",
      "       [ 1.74481176, -0.7612069 ,  0.3190391 , -0.24937038,  1.46210794,\n",
      "        -2.06014071],\n",
      "       [-0.3224172 , -0.38405435,  1.13376944, -1.09989127, -0.17242821,\n",
      "        -0.87785842]]), 'b1': array([[ 0.04221375],\n",
      "       [ 0.58281521],\n",
      "       [-1.10061918]]), 'W2': array([[ 1.14472371,  0.90159072,  0.50249434],\n",
      "       [ 0.90085595, -0.68372786, -0.12289023]]), 'b2': array([[1.73720872],\n",
      "       [0.96880719]]), 'W3': array([[4.0291898, 2.6000312]]), 'b3': array([[6.42519352]]), 'W4': array([[305.38023131]]), 'b4': array([[310.63465106]])}\n"
     ]
    },
    {
     "name": "stderr",
     "output_type": "stream",
     "text": [
      "\n"
     ]
    },
    {
     "data": {
      "text/plain": [
       "array([[0., 0.],\n",
       "       [0., 0.],\n",
       "       [0., 0.],\n",
       "       ...,\n",
       "       [0., 0.],\n",
       "       [0., 0.],\n",
       "       [0., 0.]])"
      ]
     },
     "execution_count": 9,
     "metadata": {},
     "output_type": "execute_result"
    }
   ],
   "source": [
    "deep_neural_network(X, y, hidden_layers = (3,2,1), learning_rate = 0.1, n_iter = 1000)\n"
   ]
  },
  {
   "cell_type": "code",
   "execution_count": 10,
   "metadata": {},
   "outputs": [
    {
     "ename": "NameError",
     "evalue": "name 'parametres' is not defined",
     "output_type": "error",
     "traceback": [
      "\u001b[0;31m---------------------------------------------------------------------------\u001b[0m",
      "\u001b[0;31mNameError\u001b[0m                                 Traceback (most recent call last)",
      "\u001b[1;32m/home/alz02/Documents/MasterCamp/MC_Prj/MASTERCAMP_DATA/ia/ann.ipynb Cell 12'\u001b[0m in \u001b[0;36m<cell line: 1>\u001b[0;34m()\u001b[0m\n\u001b[0;32m----> <a href='vscode-notebook-cell:/home/alz02/Documents/MasterCamp/MC_Prj/MASTERCAMP_DATA/ia/ann.ipynb#ch0000011?line=0'>1</a>\u001b[0m \u001b[39mprint\u001b[39m(parametres)\n\u001b[1;32m      <a href='vscode-notebook-cell:/home/alz02/Documents/MasterCamp/MC_Prj/MASTERCAMP_DATA/ia/ann.ipynb#ch0000011?line=2'>3</a>\u001b[0m cible \u001b[39m=\u001b[39m np\u001b[39m.\u001b[39marray([\u001b[39m'\u001b[39m\u001b[39m25\u001b[39m\u001b[39m'\u001b[39m,\u001b[39m'\u001b[39m\u001b[39m60\u001b[39m\u001b[39m'\u001b[39m,\u001b[39m'\u001b[39m\u001b[39m160\u001b[39m\u001b[39m'\u001b[39m,\u001b[39m'\u001b[39m\u001b[39m0\u001b[39m\u001b[39m'\u001b[39m,\u001b[39m'\u001b[39m\u001b[39m1\u001b[39m\u001b[39m'\u001b[39m,\u001b[39m'\u001b[39m\u001b[39m1800\u001b[39m\u001b[39m'\u001b[39m])\n\u001b[1;32m      <a href='vscode-notebook-cell:/home/alz02/Documents/MasterCamp/MC_Prj/MASTERCAMP_DATA/ia/ann.ipynb#ch0000011?line=4'>5</a>\u001b[0m cible \u001b[39m=\u001b[39m cible\u001b[39m.\u001b[39mT\n",
      "\u001b[0;31mNameError\u001b[0m: name 'parametres' is not defined"
     ]
    }
   ],
   "source": [
    "print(parametres)\n",
    "\n",
    "cible = np.array(['25','60','160','0','1','1800'])\n",
    "\n",
    "cible = cible.T\n",
    "\n",
    "predict(cible,parametres)\n"
   ]
  },
  {
   "cell_type": "code",
   "execution_count": null,
   "metadata": {},
   "outputs": [],
   "source": []
  }
 ],
 "metadata": {
  "kernelspec": {
   "display_name": "Python 3.8.10 64-bit",
   "language": "python",
   "name": "python3"
  },
  "language_info": {
   "codemirror_mode": {
    "name": "ipython",
    "version": 3
   },
   "file_extension": ".py",
   "mimetype": "text/x-python",
   "name": "python",
   "nbconvert_exporter": "python",
   "pygments_lexer": "ipython3",
   "version": "3.8.10"
  },
  "orig_nbformat": 4,
  "vscode": {
   "interpreter": {
    "hash": "916dbcbb3f70747c44a77c7bcd40155683ae19c65e1c03b4aa3499c5328201f1"
   }
  }
 },
 "nbformat": 4,
 "nbformat_minor": 2
}
