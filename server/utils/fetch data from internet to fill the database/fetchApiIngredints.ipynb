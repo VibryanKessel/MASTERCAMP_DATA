{
 "cells": [
  {
   "cell_type": "code",
   "execution_count": 17,
   "metadata": {},
   "outputs": [],
   "source": [
    "import requests"
   ]
  },
  {
   "cell_type": "code",
   "execution_count": 18,
   "metadata": {},
   "outputs": [],
   "source": [
    "\n",
    "l = [\"avocado\",\"abiu\",\"acai\",\"acerola\",\"ackee\",\"banana\",\"pineapple\",\"cantaloupe\",\"lime\",\"apple\",\"pomegranate\",\"lemon\",\"orange\",\"cherry\",\"kiwi\",\"strawberry\",\"apricot\",\"blackberry\",\"cheese\",\"wine\",\"coffee\",\"egg\",\"lettuce\",\"water\", \"rice\",\"olive\",\"chicken\",\"oats\",\"corn\",\"beef\",\"veal\",\"duck\",\"shrimp\",\"paste\",\"mushroom\",\"bread\",\"curry\",\"sprouts\",\"onion\",\"lentils\",\"cherries\",\"pancetta\",\"truffle\",\"ginger\",\"fish\"]"
   ]
  },
  {
   "cell_type": "code",
   "execution_count": 64,
   "metadata": {},
   "outputs": [],
   "source": [
    "baseurl = \"https://api.spoonacular.com/food/ingredients\"\n",
    "apiKey= [\"29cb37909ef84b8d867a0350baee367d\",\"6493965b8d7e4178af4eb51e84f4a544\",\"072e3ed9ce4f43cc81301c93d473bf38\"]\n"
   ]
  },
  {
   "cell_type": "code",
   "execution_count": 75,
   "metadata": {},
   "outputs": [],
   "source": [
    "file  = open(\"ingredients.csv\", \"a\")"
   ]
  },
  {
   "cell_type": "code",
   "execution_count": 24,
   "metadata": {},
   "outputs": [],
   "source": [
    "spoonacular = []\n",
    "\n",
    "for ing in l:\n",
    "    url = baseurl+\"/search?query={}&number={}&apiKey={}\".format(ing, 3, apiKey[0])\n",
    "    response = requests.request(\"GET\", url)\n",
    "    for el in response.json()[\"results\"]:\n",
    "        spoonacular.append(el)\n"
   ]
  },
  {
   "cell_type": "code",
   "execution_count": 61,
   "metadata": {},
   "outputs": [],
   "source": [
    "import time"
   ]
  },
  {
   "cell_type": "code",
   "execution_count": 67,
   "metadata": {},
   "outputs": [],
   "source": [
    "igr_Data = []\n",
    "last = None\n",
    "for ing in spoonacular:\n",
    "    url = baseurl+\"/{}/information?amount=1&apiKey={}\".format(ing[\"id\"],apiKey[2])\n",
    "    response = requests.request(\"GET\", url)\n",
    "    el=response.json()\n",
    "\n",
    "    igr_Data.append(el)"
   ]
  },
  {
   "cell_type": "code",
   "execution_count": 58,
   "metadata": {},
   "outputs": [],
   "source": [
    "url = baseurl+\"{}/information?amount=1&apiKey={}\".format(spoonacular[0][\"id\"],apiKey)\n",
    "url = \"https://api.spoonacular.com/food/ingredients/9266/information?amount=1&apiKey={}\".format(apiKey[1])\n",
    "response = requests.request(\"GET\", url)\n"
   ]
  },
  {
   "cell_type": "code",
   "execution_count": 79,
   "metadata": {},
   "outputs": [
    {
     "data": {
      "text/plain": [
       "dict_keys(['id', 'original', 'originalName', 'name', 'amount', 'unit', 'unitShort', 'unitLong', 'possibleUnits', 'estimatedCost', 'consistency', 'aisle', 'image', 'meta', 'nutrition', 'categoryPath'])"
      ]
     },
     "execution_count": 79,
     "metadata": {},
     "output_type": "execute_result"
    }
   ],
   "source": [
    "igr_Data[0].keys()"
   ]
  },
  {
   "cell_type": "code",
   "execution_count": 83,
   "metadata": {},
   "outputs": [],
   "source": [
    "ex = []\n",
    "for el in igr_Data:\n",
    "    x = [str(el[\"id\"]),str(el[\"name\"]),\"|\".join(el[\"categoryPath\"]),str(el[\"image\"]),str(el[\"estimatedCost\"][\"value\"])]\n",
    "\n",
    "    for i in [\"Calories\",\"Fat\",\"Carbohydrates\",\"Protein\"]:\n",
    "        for j in el[\"nutrition\"][\"nutrients\"]:\n",
    "            if j[\"name\"] == i:\n",
    "                x.append(str(j[\"amount\"]))\n",
    "                x.append(str(j[\"percentOfDailyNeeds\"]))\n",
    "    ex.append(x)\n",
    "    \n"
   ]
  },
  {
   "cell_type": "code",
   "execution_count": 86,
   "metadata": {},
   "outputs": [],
   "source": [
    "for i in ex:\n",
    "    file.write(\"\\n\"+\",\".join(i))"
   ]
  },
  {
   "cell_type": "code",
   "execution_count": 88,
   "metadata": {},
   "outputs": [],
   "source": [
    "import pandas as pd"
   ]
  },
  {
   "cell_type": "code",
   "execution_count": 90,
   "metadata": {},
   "outputs": [],
   "source": [
    "df = pd.read_csv(\"ingredients.csv\")"
   ]
  },
  {
   "cell_type": "code",
   "execution_count": 92,
   "metadata": {},
   "outputs": [
    {
     "data": {
      "text/plain": [
       "fruit                   18\n",
       "animal product          14\n",
       "drink                   10\n",
       "cereal                   5\n",
       "spices                   3\n",
       "vegetable                3\n",
       "animal product|drink     1\n",
       "mushrooms                1\n",
       "spices|vegetable         1\n",
       "pulse                    1\n",
       "lentils|pulse            1\n",
       "Name: categories, dtype: int64"
      ]
     },
     "execution_count": 92,
     "metadata": {},
     "output_type": "execute_result"
    }
   ],
   "source": [
    "df[\"categories\"].value_counts()"
   ]
  },
  {
   "cell_type": "code",
   "execution_count": null,
   "metadata": {},
   "outputs": [],
   "source": []
  }
 ],
 "metadata": {
  "kernelspec": {
   "display_name": "Python 3.8.10 64-bit",
   "language": "python",
   "name": "python3"
  },
  "language_info": {
   "codemirror_mode": {
    "name": "ipython",
    "version": 3
   },
   "file_extension": ".py",
   "mimetype": "text/x-python",
   "name": "python",
   "nbconvert_exporter": "python",
   "pygments_lexer": "ipython3",
   "version": "3.8.10"
  },
  "orig_nbformat": 4,
  "vscode": {
   "interpreter": {
    "hash": "916dbcbb3f70747c44a77c7bcd40155683ae19c65e1c03b4aa3499c5328201f1"
   }
  }
 },
 "nbformat": 4,
 "nbformat_minor": 2
}
